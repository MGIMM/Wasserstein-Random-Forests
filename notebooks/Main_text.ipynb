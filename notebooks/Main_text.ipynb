{
 "cells": [
  {
   "cell_type": "code",
   "execution_count": 69,
   "metadata": {},
   "outputs": [],
   "source": [
    "from WassersteinRandomForests import WassersteinRandomForest, WassersteinRandomForest_multi\n",
    "import matplotlib.pyplot as plt\n",
    "from seaborn import kdeplot\n",
    "import numpy as np\n",
    "from ot import wasserstein_1d\n",
    "import pickle\n",
    "from tqdm import tqdm\n",
    "%matplotlib inline"
   ]
  },
  {
   "cell_type": "markdown",
   "metadata": {},
   "source": [
    "### Important:\n",
    "\n",
    "As there is a limit for the size of **Supplementary Material** (100MB), the pretrained models provided in this notebook are not trained with the same parameters of the paper. Hence, the quality of the estimations can not be compared."
   ]
  },
  {
   "cell_type": "markdown",
   "metadata": {},
   "source": [
    "## Generate synthetic data"
   ]
  },
  {
   "cell_type": "code",
   "execution_count": 2,
   "metadata": {},
   "outputs": [],
   "source": [
    "def m(x):\n",
    "    \"\"\"\n",
    "    conditional expectation of Y(0)\n",
    "    \"\"\"\n",
    "    return 10.*x[1]*x[3] + x[2] + np.exp(x[3]-2*x[0]+np.sin(x[1]**3))\n",
    "def sigma(x):\n",
    "    \"\"\"\n",
    "    conditional variance of Y(0)\n",
    "    \"\"\"\n",
    "    return np.max([-x[0]*x[1]+4.0*x[3]**2, 0.2])\n",
    "    \n",
    "def m_1(x):\n",
    "    return 2.*m(x)- 5.0*x[1]*x[4] + 1.0\n",
    "\n",
    "def _m_1(x):\n",
    "    \"\"\"\n",
    "    conditional expectation of Y(1)\n",
    "    \"\"\"\n",
    "    return 0.5*m_1(x) - 0.5\n",
    "    #return 2.*x[4]\n",
    "\n",
    "def sigma_1(x):\n",
    "    #return 3.*x[1]*x[3]\n",
    "    return 3.*x[1]+ x[2]*x[3] + x[5]\n",
    "\n",
    "\n",
    "def e(x):\n",
    "    return 0.5*np.sin(2.*x[0]*x[1]+6.*x[2])+0.5\n",
    "\n",
    "\n",
    "def m_c(x):\n",
    "    \"\"\"\n",
    "    conditional expectation of C(1)\n",
    "    \"\"\"\n",
    "    #return 10.*x[1] + x[2]\n",
    "    return 2.*x[2]*x[4] + x[1]\n",
    "def sigma_c(x):\n",
    "    #return 3.*x[1]*x[3]\n",
    "    return x[4]*x[5] + 1.\n",
    "\n",
    "N_total = 10000\n",
    "N_train = 5000 \n",
    "def generate_data(dim, N_train = N_train, N_total = N_total):\n",
    "    X = np.random.uniform(0,1,(N_total,dim))\n",
    "    Y0 = np.zeros(N_total)\n",
    "    for i in range(N_total):\n",
    "        Y0[i] = np.random.normal(m(X[i]),np.sqrt(sigma(X[i])),1) \n",
    "    Y1 = np.zeros(N_total)\n",
    "    for i in range(N_total):\n",
    "        if np.random.rand()<0.5:\n",
    "            Y1[i] = np.random.normal(m_1(X[i]),np.sqrt(sigma_1(X[i])),1) \n",
    "        else:\n",
    "            Y1[i] = np.random.normal(-1,1,1) \n",
    "            \n",
    "    Y1C = np.zeros((N_total,2))\n",
    "    for i in range(N_total):\n",
    "        Y1C[i][0] = Y1[i]\n",
    "        Y1C[i][1] = np.random.normal(m_c(X[i]),np.sqrt(sigma_c(X[i])),1)\n",
    "        \n",
    "    Y0C = np.zeros((N_total,2))\n",
    "    for i in range(N_total):\n",
    "        Y0C[i][0] = Y0[i]\n",
    "        Y0C[i][1] = np.random.normal(m_c(X[i]),np.sqrt(sigma_c(X[i])),1)\n",
    "        \n",
    "    T = np.zeros(N_total,dtype = int)\n",
    "    for i in range(N_total):\n",
    "        if np.random.rand()<e(X[i]):\n",
    "            T[i] =1 \n",
    "        else:\n",
    "            T[i] =0 \n",
    "    return X,Y0,Y1,T,Y1C,Y0C\n",
    "\n",
    "X,Y0,Y1,T,Y1C,Y0C = generate_data(dim = 50)\n",
    "\n",
    "# treatment/control splitting\n",
    "TreatmentIndex = [i for i in range(N_total) if T[i]==1 and i <= N_train] \n",
    "ControlIndex = [i for i in range(N_total) if T[i]==0 and i <= N_train] \n",
    "testTreatmentIndex = [i for i in range(N_total) if T[i]==1 and i > N_train] \n",
    "testControlIndex = [i for i in range(N_total) if T[i]==0 and i > N_train] "
   ]
  },
  {
   "cell_type": "markdown",
   "metadata": {},
   "source": [
    "## Training"
   ]
  },
  {
   "cell_type": "code",
   "execution_count": 3,
   "metadata": {},
   "outputs": [
    {
     "name": "stderr",
     "output_type": "stream",
     "text": [
      "100%|██████████| 200/200 [1:20:36<00:00, 24.18s/it]\n",
      "100%|██████████| 200/200 [19:28<00:00,  5.84s/it]\n",
      "100%|██████████| 200/200 [1:21:06<00:00, 24.33s/it]\n",
      "100%|██████████| 200/200 [19:19<00:00,  5.80s/it]\n",
      "100%|██████████| 200/200 [12:19<00:00,  3.70s/it]\n"
     ]
    }
   ],
   "source": [
    "a_n = 1000 \n",
    "M = 200\n",
    "mtry = 45\n",
    "nodesize = 5\n",
    "\n",
    "# univariate\n",
    "reg_inter_0 = WassersteinRandomForest(nodesize = nodesize,\n",
    "                                      bootstrap = True,\n",
    "                                      subsample = a_n,\n",
    "                                      n_estimators = M,\n",
    "                                      mtry = mtry,\n",
    "                                      #n_jobs = 1,\n",
    "                                      p = 1,\n",
    "                                      interpretation = 'inter')\n",
    "reg_inter_1 = WassersteinRandomForest(nodesize = nodesize,\n",
    "                                      bootstrap = True,\n",
    "                                      subsample = a_n,\n",
    "                                      n_estimators = M,\n",
    "                                      mtry = 10 ,\n",
    "                                      #n_jobs = 1,\n",
    "                                      p = 1,\n",
    "                                      interpretation = 'inter')\n",
    "reg_intra_0 = WassersteinRandomForest(nodesize = nodesize,\n",
    "                                      bootstrap = True,\n",
    "                                      subsample = a_n,\n",
    "                                      n_estimators = M,\n",
    "                                      mtry = mtry,\n",
    "                                      #n_jobs = 1,\n",
    "                                      p = 1,\n",
    "                                      interpretation = 'inter')\n",
    "reg_intra_1 = WassersteinRandomForest(nodesize = nodesize,\n",
    "                                      bootstrap = True,\n",
    "                                      subsample = a_n,\n",
    "                                      n_estimators = M,\n",
    "                                      mtry = 10 ,\n",
    "                                      #n_jobs = 1,\n",
    "                                      p = 1,\n",
    "                                      interpretation = 'inter')\n",
    "# training\n",
    "reg_inter_0.fit(X[ControlIndex],Y0[ControlIndex])\n",
    "reg_inter_1.fit(X[TreatmentIndex],Y1[TreatmentIndex])\n",
    "reg_intra_0.fit(X[ControlIndex],Y0[ControlIndex])\n",
    "reg_intra_1.fit(X[TreatmentIndex],Y1[TreatmentIndex])\n",
    "\n",
    "#multivariate\n",
    "reg_multi = WassersteinRandomForest_multi(nodesize = nodesize,\n",
    "                                      bootstrap = True,\n",
    "                                      subsample = a_n,\n",
    "                                      n_estimators = M,\n",
    "                                      mtry = 45,\n",
    "                                      #n_jobs = 1,\n",
    "                                      )\n",
    "\n",
    "# training\n",
    "reg_multi.fit(X[TreatmentIndex],Y1C[TreatmentIndex])"
   ]
  },
  {
   "cell_type": "code",
   "execution_count": 60,
   "metadata": {},
   "outputs": [
    {
     "name": "stderr",
     "output_type": "stream",
     "text": [
      "100%|██████████| 200/200 [12:39<00:00,  3.80s/it]\n"
     ]
    }
   ],
   "source": [
    "#multivariate\n",
    "reg_multi = WassersteinRandomForest_multi(nodesize = nodesize,\n",
    "                                      bootstrap = True,\n",
    "                                      subsample = a_n,\n",
    "                                      n_estimators = M,\n",
    "                                      mtry = 45,\n",
    "                                      #n_jobs = 1,\n",
    "                                      )\n",
    "\n",
    "# training\n",
    "reg_multi.fit(X[TreatmentIndex],Y1C[TreatmentIndex])"
   ]
  },
  {
   "cell_type": "code",
   "execution_count": 71,
   "metadata": {},
   "outputs": [],
   "source": [
    "# # save models\n",
    "# with open(\"models/intra_0_p2.pkl\", 'wb') as file:\n",
    "#     pickle.dump(reg_intra_0, file)\n",
    "# with open(\"models/intra_1_p2.pkl\", 'wb') as file:\n",
    "#     pickle.dump(reg_intra_1, file)\n",
    "# with open(\"models/inter_0_p1.pkl\", 'wb') as file:\n",
    "#     pickle.dump(reg_inter_0, file)\n",
    "# with open(\"models/inter_1_p1.pkl\", 'wb') as file:\n",
    "#     pickle.dump(reg_inter_1, file)\n",
    "# with open(\"models/multi.pkl\", 'wb') as file:\n",
    "#     pickle.dump(reg_multi, file)"
   ]
  },
  {
   "cell_type": "code",
   "execution_count": 72,
   "metadata": {},
   "outputs": [],
   "source": [
    "# load models\n",
    "with open(\"models/inter_0_p1.pkl\", 'rb') as file:\n",
    "    reg_inter_0 = pickle.load(file)\n",
    "with open(\"models/inter_1_p1.pkl\", 'rb') as file:\n",
    "    reg_inter_1 = pickle.load(file)\n",
    "with open(\"models/intra_0_p2.pkl\", 'rb') as file:\n",
    "    reg_intra_0 = pickle.load(file)\n",
    "with open(\"models/intra_1_p2.pkl\", 'rb') as file:\n",
    "    reg_intra_1 = pickle.load(file)\n",
    "with open(\"models/multi.pkl\", 'rb') as file:\n",
    "    reg_multi = pickle.load(file)"
   ]
  },
  {
   "cell_type": "markdown",
   "metadata": {},
   "source": [
    "## Utils"
   ]
  },
  {
   "cell_type": "code",
   "execution_count": 73,
   "metadata": {},
   "outputs": [],
   "source": [
    "def viz_simple(x_individual,_Y,_W, group):\n",
    "    if group == \"control\":\n",
    "        Y= Y0\n",
    "        ref_sample = np.zeros(5000)\n",
    "        for i in range(5000):\n",
    "            ref_sample[i] = np.random.normal(m(x_individual),np.sqrt(sigma(x_individual)),1)\n",
    "        \n",
    "    elif group == \"treatment\":\n",
    "        Y= Y1\n",
    "        ref_sample = np.zeros(5000)\n",
    "        for i in range(5000):\n",
    "            if np.random.rand()<0.5:\n",
    "                ref_sample[i] = np.random.normal(m_1(x_individual),np.sqrt(sigma_1(x_individual)),1) \n",
    "            else:\n",
    "                ref_sample[i] = np.random.normal(-1,1,1)\n",
    "    plt.xlim([-8,20])\n",
    "    kdeplot(np.random.choice(a = _Y,p = _W,size = 1000), label=\"kde-pred\", color = \"black\")\n",
    "    plt.hist(_Y,weights=_W, bins = 20, color = \"grey\", density = True,alpha = 0.5, label=\"pred\")\n",
    "    \n",
    "    plt.hist(ref_sample, density = True, color = \"darkred\",alpha = 0.3, bins = 20, label=\"ref\")\n",
    "    kdeplot(ref_sample, label = \"kde-ref\", color = \"darkred\")\n",
    "    kdeplot(Y, label=\"kde-Y\", color = \"darkorange\")\n",
    "    plt.grid(linestyle = \"dotted\",color=\"black\")\n",
    "    #plt.legend()  \n",
    "\n",
    "def viz_info(x_individual,method):\n",
    "    if method =='intra':\n",
    "        reg_0 = reg_intra_0\n",
    "        reg_1 = reg_intra_1\n",
    "    elif method =='inter':\n",
    "        reg_0 = reg_inter_0\n",
    "        reg_1 = reg_inter_1\n",
    "        \n",
    "    ref_sample0 = np.zeros(5000)\n",
    "    for i in range(5000):\n",
    "        ref_sample0[i] = np.random.normal(m(x_individual),np.sqrt(sigma(x_individual)),1)\n",
    "    ref_sample1 = np.zeros(5000)\n",
    "    for i in range(5000):\n",
    "        if np.random.rand()<0.5:\n",
    "            ref_sample1[i] = np.random.normal(m_1(x_individual),np.sqrt(sigma_1(x_individual)),1) \n",
    "        else:\n",
    "            ref_sample1[i] = np.random.normal(-1,1,1)\n",
    "    _Y0,_W0 = reg_0.predict_distribution(x_individual)\n",
    "    _Y1,_W1 = reg_1.predict_distribution(x_individual)\n",
    "    print(method)\n",
    "    print(\"CATE(ref): \"+str(_m_1(x_individual) - m(x_individual)))\n",
    "    print(\"CATE(pred): \"+str(reg_1.predict(x_individual.reshape(1,50)) - reg_0.predict(x_individual.reshape(1,50))))\n",
    "    print(\"LAMBDA_1: \" + str(wasserstein_1d(ref_sample0,ref_sample1,p=1)))\n",
    "    print(\"predLAMBDA_1: \" + str(wasserstein_1d(x_a=_Y0,a=_W0,x_b=_Y1,b=_W1,p=1)))\n",
    "    print(\"LAMBDA_2: \" + str(wasserstein_1d(ref_sample0,ref_sample1,p=2)))\n",
    "    print(\"predLAMBDA_2: \" + str(wasserstein_1d(x_a=_Y0,a=_W0,x_b=_Y1,b=_W1,p=2)))\n",
    "    print(\"W1-loss for Y(0): \" + str(wasserstein_1d(np.random.choice(a = _Y0,p = _W0,size = 5000),ref_sample0,p=1)))\n",
    "    print(\"W1-loss for Y(1): \" + str(wasserstein_1d(np.random.choice(a = _Y1,p = _W1,size = 5000),ref_sample1,p=1)))\n",
    "    print(\"W2-loss for Y(0): \" + str(wasserstein_1d(np.random.choice(a = _Y0,p = _W0,size = 5000),ref_sample0,p=2)))\n",
    "    print(\"W2-loss for Y(1): \" + str(wasserstein_1d(np.random.choice(a = _Y1,p = _W1,size = 5000),ref_sample1,p=2)))\n",
    "    #print(\"W1-loss for Y(0): \" + str(wasserstein_1d(x_a=_Y0,a=_W0,x_b=ref_sample0,p=1)))\n",
    "    #print(\"W1-loss for Y(1): \" + str(wasserstein_1d(x_a=_Y1,a=_W0,x_b=ref_sample1,p=1)))\n",
    "    #print(\"W2-loss for Y(0): \" + str(wasserstein_1d(x_a=_Y0,a=_W0,x_b=ref_sample0,p=2)))\n",
    "    #print(\"W2-loss for Y(1): \" + str(wasserstein_1d(x_a=_Y1,a=_W0,x_b=ref_sample1,p=2)))\n",
    "    return _Y0,_W0,_Y1,_W1\n",
    "\n",
    "\n",
    "def viz_multi(x_individual,reg_multi):\n",
    "    _Y,_W = reg_multi.predict_distribution(x_individual)\n",
    "    n_sim = 5000\n",
    "    _Y_plot = _Y[np.random.choice(range(len(_Y)),n_sim, p = _W,replace = True)]\n",
    "    \n",
    "    # reference value\n",
    "    Y_plot = np.zeros((n_sim,2))\n",
    "    for i in range(n_sim):\n",
    "        if np.random.rand()<0.5:\n",
    "            Y_plot[i,0] = np.random.normal(m_1(x_individual),np.sqrt(sigma_1(x_individual)),1)\n",
    "            Y_plot[i,1] = np.random.normal(m_c(x_individual),np.sqrt(sigma_c(x_individual)),1)\n",
    "        else:\n",
    "            #Y[i] = np.random.normal(obj_func(X[i]),np.sqrt(obj_func2(X[i])),1) \n",
    "            # Y[i] = np.random.normal(-0.05*obj_func2(X[i]),1,1) \n",
    "            #Y[i] = np.random.normal(-1.5*obj_func2(X[i]),1,1) \n",
    "            #Y[i] = np.random.normal(obj_func3(X[i]),1,1) \n",
    "            \n",
    "            Y_plot[i,0] = np.random.normal(-1,1,1) \n",
    "            Y_plot[i,1] = np.random.normal(m_c(x_individual),np.sqrt(sigma_c(x_individual)),1)\n",
    "       \n",
    "    \n",
    "    kdeplot(_Y_plot[:,0],_Y_plot[:,1],color = \"grey\", shade=True, shade_lowest=False, label = 'pred', alpha = 1.);\n",
    "    kdeplot(Y_plot[:,0],Y_plot[:,1],color='darkred', shade=True, shade_lowest=False,label = \"ref\", alpha = 0.4);\n",
    "    #ax = sns.jointplot(Y_plot[:,0], Y_plot[:,1],kind = \"kde\",color = \"darkred\", shade=True, shade_lowest=False, label = 'a');\n",
    "    plt.grid(ls = \"dotted\",color='black')\n",
    "    plt.xlim([-8,20])\n",
    "    plt.xlabel(\"$Y(1)$\")\n",
    "    plt.ylabel(\"$C(1)$\")\n",
    "    plt.legend()\n",
    "def evaluate_AWD(reg, group, p = 2, X = X, Y0=Y0, Y1=Y1, N_train = N_train):\n",
    "    predlist = []\n",
    "    predlistY = []\n",
    "    #ideallist = []\n",
    "    if group == \"control\":\n",
    "        for i in tqdm(range(5000)):\n",
    "            Y_c,W_c = reg.predict_distribution(X[N_train+i])\n",
    "            predlist +=[wasserstein_1d(p = p,x_a = np.random.choice(Y_c,p=W_c,size = N_train),x_b =np.random.normal(m(X[N_train+i]),sigma(X[N_train+i]),10000))]\n",
    "            predlistY +=[wasserstein_1d(p = p,x_a = Y0[:N_train],x_b =np.random.normal(m(X[N_train+i]),np.sqrt(sigma(X[N_train+i])),10000))]\n",
    "    elif group == \"treatment\":\n",
    "        for i in tqdm(range(5000)):\n",
    "            Y_c,W_c = reg.predict_distribution(X[N_train+i])\n",
    "            _Y1 = np.zeros(10000)\n",
    "            for j in range(10000):\n",
    "                if np.random.rand()<0.5:\n",
    "                    _Y1[j] = np.random.normal(m_1(X[N_train+i]),np.sqrt(sigma_1(X[N_train+i])),1) \n",
    "                else:\n",
    "                    _Y1[j] = np.random.normal(-1,1,1) \n",
    "            predlist +=[wasserstein_1d(p = p,x_a = np.random.choice(Y_c,p=W_c,size = N_train),x_b =_Y1)]\n",
    "            predlistY +=[wasserstein_1d(p = p,x_a = Y1[:N_train],x_b =_Y1)]\n",
    "    \n",
    "            \n",
    "    print(\"average W\"+str(p)+\" distance:\", np.mean(predlist))\n",
    "    print(\"average W\"+str(p)+\" distance with Y (i.e., no estimation is made):\", np.mean(predlistY))"
   ]
  },
  {
   "cell_type": "markdown",
   "metadata": {},
   "source": [
    "## Reproduce Figure 2"
   ]
  },
  {
   "cell_type": "code",
   "execution_count": 74,
   "metadata": {},
   "outputs": [],
   "source": [
    "with open(\"models/bimodal_individual.npy\",'rb') as file:\n",
    "    x_bimodal = np.load(\"models/bimodal_individual.npy\")\n"
   ]
  },
  {
   "cell_type": "code",
   "execution_count": 75,
   "metadata": {},
   "outputs": [
    {
     "name": "stdout",
     "output_type": "stream",
     "text": [
      "inter\n",
      "CATE(ref): 0.0\n",
      "CATE(pred): [-1.15761893]\n",
      "LAMBDA_1: 3.072974346309109\n",
      "predLAMBDA_1: 2.6710434488508845\n",
      "LAMBDA_2: 3.218972585832084\n",
      "predLAMBDA_2: 3.0484987273332504\n",
      "W1-loss for Y(0): 0.3226627893620772\n",
      "W1-loss for Y(1): 1.0775518717969412\n",
      "W2-loss for Y(0): 0.4478107068790342\n",
      "W2-loss for Y(1): 1.6850224172321222\n",
      "intra\n",
      "CATE(ref): 0.0\n",
      "CATE(pred): [-0.37187777]\n",
      "LAMBDA_1: 3.082635382942483\n",
      "predLAMBDA_1: 2.6914089808104507\n",
      "LAMBDA_2: 3.2308217651098903\n",
      "predLAMBDA_2: 3.1413678064882076\n",
      "W1-loss for Y(0): 0.20645310618957538\n",
      "W1-loss for Y(1): 0.7238828870205548\n",
      "W2-loss for Y(0): 0.3025942832271847\n",
      "W2-loss for Y(1): 1.124540368230101\n"
     ]
    },
    {
     "data": {
      "image/png": "[encoded data removed]",
      "text/plain": [
       "<Figure size 720x504 with 4 Axes>"
      ]
     },
     "metadata": {
      "needs_background": "light"
     },
     "output_type": "display_data"
    }
   ],
   "source": [
    "Y0_inter,W0_inter,Y1_inter,W1_inter = viz_info(x_bimodal,method=\"inter\")\n",
    "Y0_intra,W0_intra,Y1_intra,W1_intra = viz_info(x_bimodal,method=\"intra\")\n",
    "plt.figure(figsize =(10,7))\n",
    "plt.subplot(221)\n",
    "viz_simple(x_bimodal,Y0_inter,W0_inter,\"control\")\n",
    "plt.subplot(222)\n",
    "viz_simple(x_bimodal,Y0_intra,W0_intra,\"control\")\n",
    "plt.subplot(223)\n",
    "viz_simple(x_bimodal,Y1_inter,W1_inter,\"treatment\")\n",
    "plt.subplot(224)\n",
    "viz_simple(x_bimodal,Y1_intra,W1_intra,\"treatment\")"
   ]
  },
  {
   "cell_type": "code",
   "execution_count": 76,
   "metadata": {},
   "outputs": [
    {
     "data": {
      "image/png": "[encoded data removed]",
      "text/plain": [
       "<Figure size 360x288 with 1 Axes>"
      ]
     },
     "metadata": {
      "needs_background": "light"
     },
     "output_type": "display_data"
    }
   ],
   "source": [
    "plt.figure(figsize = (5,4))\n",
    "viz_multi(x_bimodal,reg_multi)"
   ]
  },
  {
   "cell_type": "markdown",
   "metadata": {},
   "source": [
    "## Reproduce Tabel 1"
   ]
  },
  {
   "cell_type": "code",
   "execution_count": 70,
   "metadata": {},
   "outputs": [
    {
     "name": "stderr",
     "output_type": "stream",
     "text": [
      "  0%|          | 10/5000 [00:00<00:51, 97.34it/s]"
     ]
    },
    {
     "name": "stdout",
     "output_type": "stream",
     "text": [
      "inter_0:\n"
     ]
    },
    {
     "name": "stderr",
     "output_type": "stream",
     "text": [
      "100%|██████████| 5000/5000 [00:41<00:00, 119.33it/s]\n",
      "  0%|          | 1/5000 [00:00<09:42,  8.57it/s]"
     ]
    },
    {
     "name": "stdout",
     "output_type": "stream",
     "text": [
      "average W1 distance: 0.6070849476026563\n",
      "average W1 distance with Y (i.e., no estimation is made): 2.5303234698704693\n",
      "inter_1:\n"
     ]
    },
    {
     "name": "stderr",
     "output_type": "stream",
     "text": [
      "100%|██████████| 5000/5000 [09:00<00:00,  9.25it/s]\n",
      "  0%|          | 10/5000 [00:00<00:50, 98.70it/s]"
     ]
    },
    {
     "name": "stdout",
     "output_type": "stream",
     "text": [
      "average W1 distance: 1.5166644238276745\n",
      "average W1 distance with Y (i.e., no estimation is made): 2.337375469939217\n",
      "intra_0:\n"
     ]
    },
    {
     "name": "stderr",
     "output_type": "stream",
     "text": [
      "100%|██████████| 5000/5000 [00:44<00:00, 113.07it/s]\n",
      "  0%|          | 1/5000 [00:00<09:14,  9.01it/s]"
     ]
    },
    {
     "name": "stdout",
     "output_type": "stream",
     "text": [
      "average W1 distance: 0.6015880220796165\n",
      "average W1 distance with Y (i.e., no estimation is made): 2.5303718308731833\n",
      "intra_1:\n"
     ]
    },
    {
     "name": "stderr",
     "output_type": "stream",
     "text": [
      "100%|██████████| 5000/5000 [08:35<00:00,  9.70it/s]\n",
      "  0%|          | 13/5000 [00:00<00:40, 123.34it/s]"
     ]
    },
    {
     "name": "stdout",
     "output_type": "stream",
     "text": [
      "average W1 distance: 1.5546415622846732\n",
      "average W1 distance with Y (i.e., no estimation is made): 2.335007525056115\n",
      "inter_0:\n"
     ]
    },
    {
     "name": "stderr",
     "output_type": "stream",
     "text": [
      "100%|██████████| 5000/5000 [00:40<00:00, 122.50it/s]\n",
      "  0%|          | 0/5000 [00:00<?, ?it/s]"
     ]
    },
    {
     "name": "stdout",
     "output_type": "stream",
     "text": [
      "average W2 distance: 0.7500689242938159\n",
      "average W2 distance with Y (i.e., no estimation is made): 3.0869706412559856\n",
      "inter_1:\n"
     ]
    },
    {
     "name": "stderr",
     "output_type": "stream",
     "text": [
      "100%|██████████| 5000/5000 [08:42<00:00,  9.57it/s]\n",
      "  0%|          | 13/5000 [00:00<00:40, 123.65it/s]"
     ]
    },
    {
     "name": "stdout",
     "output_type": "stream",
     "text": [
      "average W2 distance: 2.5019343421618725\n",
      "average W2 distance with Y (i.e., no estimation is made): 3.972786064677837\n",
      "intra_0:\n"
     ]
    },
    {
     "name": "stderr",
     "output_type": "stream",
     "text": [
      "100%|██████████| 5000/5000 [00:40<00:00, 122.63it/s]\n",
      "  0%|          | 1/5000 [00:00<08:56,  9.33it/s]"
     ]
    },
    {
     "name": "stdout",
     "output_type": "stream",
     "text": [
      "average W2 distance: 0.7427702466488795\n",
      "average W2 distance with Y (i.e., no estimation is made): 3.0874160050931736\n",
      "intra_1:\n"
     ]
    },
    {
     "name": "stderr",
     "output_type": "stream",
     "text": [
      "100%|██████████| 5000/5000 [08:54<00:00,  9.36it/s]"
     ]
    },
    {
     "name": "stdout",
     "output_type": "stream",
     "text": [
      "average W2 distance: 2.583684679909839\n",
      "average W2 distance with Y (i.e., no estimation is made): 3.9721715264302984\n"
     ]
    },
    {
     "name": "stderr",
     "output_type": "stream",
     "text": [
      "\n"
     ]
    }
   ],
   "source": [
    "print(\"inter_0:\")\n",
    "evaluate_AWD(reg_inter_0,\"control\", p=1)\n",
    "print(\"inter_1:\")\n",
    "evaluate_AWD(reg_inter_1,\"treatment\", p=1)\n",
    "print(\"intra_0:\")\n",
    "evaluate_AWD(reg_intra_0,\"control\", p=1)\n",
    "print(\"intra_1:\")\n",
    "evaluate_AWD(reg_intra_1,\"treatment\", p=1)\n",
    "\n",
    "print(\"inter_0:\")\n",
    "evaluate_AWD(reg_inter_0,\"control\", p=2)\n",
    "print(\"inter_1:\")\n",
    "evaluate_AWD(reg_inter_1,\"treatment\", p=2)\n",
    "print(\"intra_0:\")\n",
    "evaluate_AWD(reg_intra_0,\"control\", p=2)\n",
    "print(\"intra_1:\")\n",
    "evaluate_AWD(reg_intra_1,\"treatment\", p=2)"
   ]
  },
  {
   "cell_type": "code",
   "execution_count": null,
   "metadata": {},
   "outputs": [],
   "source": []
  }
 ],
 "metadata": {
  "kernelspec": {
   "display_name": "Python 3",
   "language": "python",
   "name": "python3"
  },
  "language_info": {
   "codemirror_mode": {
    "name": "ipython",
    "version": 3
   },
   "file_extension": ".py",
   "mimetype": "text/x-python",
   "name": "python",
   "nbconvert_exporter": "python",
   "pygments_lexer": "ipython3",
   "version": "3.7.6"
  }
 },
 "nbformat": 4,
 "nbformat_minor": 4
}
